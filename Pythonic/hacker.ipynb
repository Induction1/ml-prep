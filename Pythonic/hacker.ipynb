{
 "cells": [
  {
   "cell_type": "markdown",
   "metadata": {},
   "source": [
    "### Hello World"
   ]
  },
  {
   "cell_type": "code",
   "execution_count": 9,
   "metadata": {},
   "outputs": [
    {
     "name": "stdout",
     "output_type": "stream",
     "text": [
      "Hello, World!\n"
     ]
    }
   ],
   "source": [
    "print(\"Hello, World!\")"
   ]
  },
  {
   "cell_type": "markdown",
   "metadata": {},
   "source": [
    "### If Else"
   ]
  },
  {
   "cell_type": "code",
   "execution_count": 10,
   "metadata": {},
   "outputs": [
    {
     "name": "stdout",
     "output_type": "stream",
     "text": [
      "Weird\n"
     ]
    }
   ],
   "source": [
    "n = 1\n",
    "if n%2 == 1:\n",
    "    print(\"Weird\")\n",
    "else:\n",
    "    if n == 2 or n ==4 or n > 20:\n",
    "        print(\"Not Weird\")\n",
    "    else:\n",
    "        print(\"Weird\")"
   ]
  },
  {
   "cell_type": "markdown",
   "metadata": {},
   "source": [
    "### Very Basic Math"
   ]
  },
  {
   "cell_type": "code",
   "execution_count": 11,
   "metadata": {},
   "outputs": [
    {
     "name": "stdout",
     "output_type": "stream",
     "text": [
      "4\n",
      "-2\n",
      "3\n"
     ]
    }
   ],
   "source": [
    "a=1\n",
    "b=3\n",
    "print(a+b)\n",
    "print(a-b)\n",
    "print(a*b)"
   ]
  },
  {
   "cell_type": "markdown",
   "metadata": {},
   "source": [
    "### Integer vs Floating Division"
   ]
  },
  {
   "cell_type": "code",
   "execution_count": 12,
   "metadata": {},
   "outputs": [
    {
     "name": "stdout",
     "output_type": "stream",
     "text": [
      "1\n",
      "1.6666666666666667\n"
     ]
    }
   ],
   "source": [
    "a=5\n",
    "b=3\n",
    "print(a//b)\n",
    "print(a/b)"
   ]
  },
  {
   "cell_type": "markdown",
   "metadata": {},
   "source": [
    "### Basic Loops"
   ]
  },
  {
   "cell_type": "code",
   "execution_count": 13,
   "metadata": {},
   "outputs": [
    {
     "name": "stdout",
     "output_type": "stream",
     "text": [
      "0\n",
      "1\n",
      "4\n",
      "9\n",
      "16\n"
     ]
    }
   ],
   "source": [
    "n = 5\n",
    "for p in range(0, n):\n",
    "        print(pow(p,2))"
   ]
  },
  {
   "cell_type": "markdown",
   "metadata": {},
   "source": [
    "### Basic Function"
   ]
  },
  {
   "cell_type": "code",
   "execution_count": 14,
   "metadata": {},
   "outputs": [
    {
     "name": "stdout",
     "output_type": "stream",
     "text": [
      "True\n"
     ]
    }
   ],
   "source": [
    "def is_leap(year):\n",
    "    leap = False\n",
    "    \n",
    "    if (year%4 == 0 and year%100 != 0) or year%400 == 0:\n",
    "        leap = True\n",
    "        \n",
    "    return leap\n",
    "\n",
    "print(is_leap(2000))"
   ]
  },
  {
   "cell_type": "markdown",
   "metadata": {},
   "source": [
    "### Advanced Print\n",
    "\n",
    "Print 1234...n without using string functions"
   ]
  },
  {
   "cell_type": "code",
   "execution_count": 15,
   "metadata": {},
   "outputs": [
    {
     "name": "stdout",
     "output_type": "stream",
     "text": [
      "1234567891011121314151617181920\n"
     ]
    }
   ],
   "source": [
    "n = 20\n",
    "print(*list(range(1, n+1)),sep=\"\")"
   ]
  },
  {
   "cell_type": "markdown",
   "metadata": {},
   "source": [
    "\\* accesses elements inside the list  \n",
    "list() creates a list of  \n",
    "range()  \n",
    "sep = delimiter between each item"
   ]
  },
  {
   "cell_type": "markdown",
   "metadata": {},
   "source": [
    "### List Comprehension\n",
    "Print a list of lists \\[a,b,c\\] s.t. a+b+c != n"
   ]
  },
  {
   "cell_type": "code",
   "execution_count": 18,
   "metadata": {},
   "outputs": [
    {
     "name": "stdout",
     "output_type": "stream",
     "text": [
      "[[0, 0, 0], [0, 0, 1], [0, 0, 2], [0, 0, 3], [0, 1, 0], [0, 1, 1], [0, 1, 2], [0, 1, 3], [0, 2, 0], [0, 2, 1], [0, 2, 2], [0, 2, 3], [1, 0, 0], [1, 0, 1], [1, 0, 2], [1, 0, 3], [1, 1, 0], [1, 1, 1], [1, 1, 2], [1, 1, 3], [1, 2, 0], [1, 2, 1], [1, 2, 2], [1, 2, 3], [2, 0, 0], [2, 0, 1], [2, 0, 2], [2, 0, 3], [2, 1, 0], [2, 1, 1], [2, 1, 2], [2, 1, 3], [2, 2, 0], [2, 2, 1], [2, 2, 2], [2, 2, 3]]\n"
     ]
    }
   ],
   "source": [
    "x=2\n",
    "y=2\n",
    "z=3\n",
    "print([[a,b,c] for a in range(x+1) for b in range(y+1) for c in range(z+1) if a+b+c!=n])"
   ]
  },
  {
   "cell_type": "markdown",
   "metadata": {},
   "source": [
    "\\[\\] makes it a list  \n",
    "then for statements  \n",
    "then if clause"
   ]
  },
  {
   "cell_type": "markdown",
   "metadata": {},
   "source": [
    "### List Gymnastics\n",
    "From a list of not necessarily distinct scores, find the second highest."
   ]
  },
  {
   "cell_type": "code",
   "execution_count": 21,
   "metadata": {},
   "outputs": [
    {
     "name": "stdout",
     "output_type": "stream",
     "text": [
      "6\n"
     ]
    }
   ],
   "source": [
    "n = 8\n",
    "arr = [1,2,3,4,5,5,6,7]\n",
    "print(sorted(list(set(arr)))[-2])"
   ]
  },
  {
   "cell_type": "markdown",
   "metadata": {},
   "source": [
    "set() gets rid of duplicates  \n",
    "sorted() sorts by ascending order... sorted(list, key = sorcery, reverse = False)  \n",
    "\\[-2\\] is a clever method of accessing second to last element"
   ]
  },
  {
   "cell_type": "markdown",
   "metadata": {},
   "source": [
    "### Dictionary and Regex\n",
    "Round value of particular key to 2 decimal digits"
   ]
  },
  {
   "cell_type": "code",
   "execution_count": 1,
   "metadata": {},
   "outputs": [],
   "source": [
    "# print(format(sum(student_marks[query_name])/3, \".2f\"))"
   ]
  },
  {
   "cell_type": "markdown",
   "metadata": {},
   "source": [
    "sum(\\[list\\] works), then regex with .2f 2 decimal points"
   ]
  },
  {
   "cell_type": "markdown",
   "metadata": {},
   "source": [
    "### Set Symmetric Difference\n",
    "Find the symmetric difference (i.e. A + B - 2 ANB)"
   ]
  },
  {
   "cell_type": "code",
   "execution_count": 4,
   "metadata": {},
   "outputs": [
    {
     "data": {
      "text/plain": [
       "'E=int(input())\\nE_r=set(map(int,input().split()))\\nf=int(input())\\nf_r=set(map(int,input().split()))\\n\\nsym_diff=E_r.symmetric_difference(f_r)\\n\\ntos=len(sym_diff)\\n\\nprint(tos)\\n'"
      ]
     },
     "execution_count": 4,
     "metadata": {},
     "output_type": "execute_result"
    }
   ],
   "source": [
    "\"\"\"E=int(input())\n",
    "E_r=set(map(int,input().split()))\n",
    "f=int(input())\n",
    "f_r=set(map(int,input().split()))\n",
    "\n",
    "sym_diff=E_r.symmetric_difference(f_r)\n",
    "\n",
    "tos=len(sym_diff)\n",
    "\n",
    "print(tos)\n",
    "\"\"\""
   ]
  },
  {
   "cell_type": "markdown",
   "metadata": {},
   "source": [
    "map(applies int onto each element in the list), creates iterable function  \n",
    "symmetric_difference literally yes"
   ]
  },
  {
   "cell_type": "markdown",
   "metadata": {},
   "source": [
    "### Other Set Mutations\n",
    "Do the following:"
   ]
  },
  {
   "cell_type": "code",
   "execution_count": 5,
   "metadata": {},
   "outputs": [
    {
     "data": {
      "text/plain": [
       "'Anum = int(input())\\nA = set(map(int, input().split()))\\nNnum = int(input())\\nfor i in range(Nnum):\\n    operation, digits = input().split()\\n    N = set(map(int, input().split()))\\n    getattr(A,operation)(N)\\n    \\nprint(sum(A))\\n'"
      ]
     },
     "execution_count": 5,
     "metadata": {},
     "output_type": "execute_result"
    }
   ],
   "source": [
    "\"\"\"Anum = int(input())\n",
    "A = set(map(int, input().split()))\n",
    "Nnum = int(input())\n",
    "for i in range(Nnum):\n",
    "    operation, digits = input().split()\n",
    "    N = set(map(int, input().split()))\n",
    "    getattr(A,operation)(N)\n",
    "    \n",
    "print(sum(A))\n",
    "\"\"\""
   ]
  },
  {
   "cell_type": "markdown",
   "metadata": {},
   "source": [
    "Literally no idea what getattr() is doing here but it works? What is this fancy notation too?"
   ]
  },
  {
   "cell_type": "markdown",
   "metadata": {},
   "source": [
    "### Is Subset\n",
    "Given T trials, find whether A is a subset of B in each"
   ]
  },
  {
   "cell_type": "code",
   "execution_count": 6,
   "metadata": {},
   "outputs": [
    {
     "data": {
      "text/plain": [
       "'T= int(input())\\nfor _ in range(T):\\n    intA = int(input())\\n    A = set(map(int, input().split()))\\n    intB = int(input())\\n    B = set(map(int, input().split()))\\n    \\n    print(A.issubset(B))\\n'"
      ]
     },
     "execution_count": 6,
     "metadata": {},
     "output_type": "execute_result"
    }
   ],
   "source": [
    "\"\"\"T= int(input())\n",
    "for _ in range(T):\n",
    "    intA = int(input())\n",
    "    A = set(map(int, input().split()))\n",
    "    intB = int(input())\n",
    "    B = set(map(int, input().split()))\n",
    "    \n",
    "    print(A.issubset(B))\n",
    "\"\"\""
   ]
  },
  {
   "cell_type": "markdown",
   "metadata": {},
   "source": [
    "(set).issubset((set)) does what is does lmao\n",
    "(set).issuperset((set)) also does exactly what it does"
   ]
  },
  {
   "cell_type": "markdown",
   "metadata": {},
   "source": [
    "### Math"
   ]
  },
  {
   "cell_type": "markdown",
   "metadata": {},
   "source": [
    "pow(a,b) or a**b both work for a^b"
   ]
  },
  {
   "cell_type": "markdown",
   "metadata": {},
   "source": [
    "### Itertools"
   ]
  },
  {
   "cell_type": "code",
   "execution_count": 13,
   "metadata": {},
   "outputs": [
    {
     "name": "stdout",
     "output_type": "stream",
     "text": [
      "(1, 4) (1, 5) (2, 4) (2, 5) (3, 4) (3, 5)\n",
      "(1, 2) (1, 3) (2, 1) (2, 3) (3, 1) (3, 2)\n"
     ]
    }
   ],
   "source": [
    "from itertools import *\n",
    "A = [1,2,3]\n",
    "B = [4,5]\n",
    "print(*product(A, B))\n",
    "print(*permutations(A, 2))"
   ]
  },
  {
   "cell_type": "code",
   "execution_count": null,
   "metadata": {},
   "outputs": [],
   "source": []
  },
  {
   "cell_type": "code",
   "execution_count": 22,
   "metadata": {},
   "outputs": [],
   "source": [
    "from itertools import *"
   ]
  },
  {
   "cell_type": "code",
   "execution_count": 48,
   "metadata": {},
   "outputs": [
    {
     "name": "stdout",
     "output_type": "stream",
     "text": [
      "(1, 1) (2, 2) (3, 3) (1, 4) (1, 5)\n"
     ]
    }
   ],
   "source": [
    "from itertools import *\n",
    "print(\" \".join(map(str, [(len(list(b)),int(a)) for a, b in groupby(input())])))"
   ]
  },
  {
   "cell_type": "code",
   "execution_count": null,
   "metadata": {},
   "outputs": [],
   "source": []
  }
 ],
 "metadata": {
  "kernelspec": {
   "display_name": "Python 3 (ipykernel)",
   "language": "python",
   "name": "python3"
  },
  "language_info": {
   "codemirror_mode": {
    "name": "ipython",
    "version": 3
   },
   "file_extension": ".py",
   "mimetype": "text/x-python",
   "name": "python",
   "nbconvert_exporter": "python",
   "pygments_lexer": "ipython3",
   "version": "3.9.7"
  }
 },
 "nbformat": 4,
 "nbformat_minor": 4
}
